{
  "cells": [
    {
      "cell_type": "markdown",
      "metadata": {},
      "source": [
        "# GNN Demo (Cora/CiteSeer/PubMed)\n",
        "\n",
        "This notebook demonstrates:\n",
        "- Data loading and simple augmentations (feature noise/dropout, edge dropout)\n",
        "- Model selection (GCN/GAT)\n",
        "- Training, evaluation (accuracy + macro-F1)\n",
        "- Optional grid search hyperparameter tuning\n",
        "\n"
      ]
    },
    {
      "cell_type": "code",
      "execution_count": null,
      "metadata": {},
      "outputs": [],
      "source": [
        "# If running locally, ensure deps are installed (uncomment and run once)\n",
        "# !pip install -r requirements.txt\n",
        "\n",
        "import sys, os, json\n",
        "from argparse import Namespace\n",
        "\n",
        "# Enable reload on code changes if editing main.py\n",
        "%load_ext autoreload\n",
        "%autoreload 2\n",
        "\n"
      ]
    },
    {
      "cell_type": "code",
      "execution_count": null,
      "metadata": {},
      "outputs": [],
      "source": [
        "# Import the training script helpers\n",
        "import importlib\n",
        "spec = importlib.util.spec_from_file_location(\"gnn_main\", os.path.join(os.getcwd(), \"main.py\"))\n",
        "module = importlib.util.module_from_spec(spec)\n",
        "spec.loader.exec_module(module)\n",
        "run_experiment = module.run_experiment\n",
        "parse_args = module.parse_args\n",
        "\n"
      ]
    },
    {
      "cell_type": "code",
      "execution_count": null,
      "metadata": {},
      "outputs": [],
      "source": [
        "# Configure a run\n",
        "args = Namespace(\n",
        "    dataset='Cora',\n",
        "    model='gcn',\n",
        "    hidden_channels=16,\n",
        "    dropout=0.5,\n",
        "    epochs=100,\n",
        "    lr=0.01,\n",
        "    weight_decay=5e-4,\n",
        "    noise=0.1,\n",
        "    feature_dropout=0.0,\n",
        "    edge_dropout=0.0,\n",
        "    cpu=True,\n",
        "    seed=42,\n",
        "    log_every=20,\n",
        "    grid_search=False,\n",
        "    gs_hidden=None,\n",
        "    gs_lr=None,\n",
        "    gs_dropout=None,\n",
        ")\n",
        "args\n"
      ]
    },
    {
      "cell_type": "code",
      "execution_count": null,
      "metadata": {},
      "outputs": [],
      "source": [
        "# Run experiment\n",
        "metrics = run_experiment(args)\n",
        "metrics\n"
      ]
    },
    {
      "cell_type": "code",
      "execution_count": null,
      "metadata": {},
      "outputs": [],
      "source": [
        "# Optional: Simple grid search\n",
        "args_gs = Namespace(**{**vars(args), 'grid_search': True, 'gs_hidden': [16, 32], 'gs_lr': [0.01, 0.005], 'gs_dropout': [0.5, 0.6]})\n",
        "module.grid_search(args_gs)\n"
      ]
    }
  ],
  "metadata": {
    "language_info": {
      "name": "python"
    }
  },
  "nbformat": 4,
  "nbformat_minor": 2
}
